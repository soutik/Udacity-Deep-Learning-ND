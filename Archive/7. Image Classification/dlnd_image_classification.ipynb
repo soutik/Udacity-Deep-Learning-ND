{
 "cells": [
  {
   "cell_type": "markdown",
   "metadata": {
    "collapsed": true
   },
   "source": [
    "# Image Classification\n",
    "In this project, you'll classify images from the [CIFAR-10 dataset](https://www.cs.toronto.edu/~kriz/cifar.html).  The dataset consists of airplanes, dogs, cats, and other objects. You'll preprocess the images, then train a convolutional neural network on all the samples. The images need to be normalized and the labels need to be one-hot encoded.  You'll get to apply what you learned and build a convolutional, max pooling, dropout, and fully connected layers.  At the end, you'll get to see your neural network's predictions on the sample images.\n",
    "## Get the Data\n",
    "Run the following cell to download the [CIFAR-10 dataset for python](https://www.cs.toronto.edu/~kriz/cifar-10-python.tar.gz)."
   ]
  },
  {
   "cell_type": "code",
   "execution_count": 1,
   "metadata": {
    "collapsed": false
   },
   "outputs": [
    {
     "name": "stdout",
     "output_type": "stream",
     "text": [
      "All files found!\n"
     ]
    }
   ],
   "source": [
    "\"\"\"\n",
    "DON'T MODIFY ANYTHING IN THIS CELL THAT IS BELOW THIS LINE\n",
    "\"\"\"\n",
    "from urllib.request import urlretrieve\n",
    "from os.path import isfile, isdir\n",
    "from tqdm import tqdm\n",
    "import problem_unittests as tests\n",
    "import tarfile\n",
    "\n",
    "cifar10_dataset_folder_path = 'cifar-10-batches-py'\n",
    "\n",
    "class DLProgress(tqdm):\n",
    "    last_block = 0\n",
    "\n",
    "    def hook(self, block_num=1, block_size=1, total_size=None):\n",
    "        self.total = total_size\n",
    "        self.update((block_num - self.last_block) * block_size)\n",
    "        self.last_block = block_num\n",
    "\n",
    "if not isfile('cifar-10-python.tar.gz'):\n",
    "    with DLProgress(unit='B', unit_scale=True, miniters=1, desc='CIFAR-10 Dataset') as pbar:\n",
    "        urlretrieve(\n",
    "            'https://www.cs.toronto.edu/~kriz/cifar-10-python.tar.gz',\n",
    "            'cifar-10-python.tar.gz',\n",
    "            pbar.hook)\n",
    "\n",
    "if not isdir(cifar10_dataset_folder_path):\n",
    "    with tarfile.open('cifar-10-python.tar.gz') as tar:\n",
    "        tar.extractall()\n",
    "        tar.close()\n",
    "\n",
    "\n",
    "tests.test_folder_path(cifar10_dataset_folder_path)"
   ]
  },
  {
   "cell_type": "markdown",
   "metadata": {},
   "source": [
    "## Explore the Data\n",
    "The dataset is broken into batches to prevent your machine from running out of memory.  The CIFAR-10 dataset consists of 5 batches, named `data_batch_1`, `data_batch_2`, etc.. Each batch contains the labels and images that are one of the following:\n",
    "* airplane\n",
    "* automobile\n",
    "* bird\n",
    "* cat\n",
    "* deer\n",
    "* dog\n",
    "* frog\n",
    "* horse\n",
    "* ship\n",
    "* truck\n",
    "\n",
    "Understanding a dataset is part of making predictions on the data.  Play around with the code cell below by changing the `batch_id` and `sample_id`. The `batch_id` is the id for a batch (1-5). The `sample_id` is the id for a image and label pair in the batch.\n",
    "\n",
    "Ask yourself \"What are all possible labels?\", \"What is the range of values for the image data?\", \"Are the labels in order or random?\".  Answers to questions like these will help you preprocess the data and end up with better predictions."
   ]
  },
  {
   "cell_type": "code",
   "execution_count": 2,
   "metadata": {
    "collapsed": false
   },
   "outputs": [
    {
     "name": "stdout",
     "output_type": "stream",
     "text": [
      "\n",
      "Stats of batch 5:\n",
      "Samples: 10000\n",
      "Label Counts: {0: 1014, 1: 1014, 2: 952, 3: 1016, 4: 997, 5: 1025, 6: 980, 7: 977, 8: 1003, 9: 1022}\n",
      "First 20 Labels: [1, 8, 5, 1, 5, 7, 4, 3, 8, 2, 7, 2, 0, 1, 5, 9, 6, 2, 0, 8]\n",
      "\n",
      "Example of Image 10:\n",
      "Image - Min Value: 16 Max Value: 227\n",
      "Image - Shape: (32, 32, 3)\n",
      "Label - Label Id: 7 Name: horse\n"
     ]
    },
    {
     "data": {
      "image/png": "[encoded data removed]",
      "text/plain": [
       "<matplotlib.figure.Figure at 0x116c445f8>"
      ]
     },
     "metadata": {
      "image/png": {
       "height": 250,
       "width": 253
      }
     },
     "output_type": "display_data"
    }
   ],
   "source": [
    "%matplotlib inline\n",
    "%config InlineBackend.figure_format = 'retina'\n",
    "\n",
    "import helper\n",
    "import numpy as np\n",
    "\n",
    "# Explore the dataset\n",
    "batch_id = 5\n",
    "sample_id = 10\n",
    "helper.display_stats(cifar10_dataset_folder_path, batch_id, sample_id)"
   ]
  },
  {
   "cell_type": "markdown",
   "metadata": {},
   "source": [
    "## Implement Preprocess Functions\n",
    "### Normalize\n",
    "In the cell below, implement the `normalize` function to take in image data, `x`, and return it as a normalized Numpy array. The values should be in the range of 0 to 1, inclusive.  The return object should be the same shape as `x`."
   ]
  },
  {
   "cell_type": "code",
   "execution_count": 3,
   "metadata": {
    "collapsed": false
   },
   "outputs": [
    {
     "name": "stdout",
     "output_type": "stream",
     "text": [
      "Tests Passed\n"
     ]
    }
   ],
   "source": [
    "def normalize(x):\n",
    "    \"\"\"\n",
    "    Normalize a list of sample image data in the range of 0 to 1\n",
    "    : x: List of image data.  The image shape is (32, 32, 3)\n",
    "    : return: Numpy array of normalize data\n",
    "    \"\"\"\n",
    "    # TODO: Implement Function\n",
    "    return (x-np.min(x))/(np.max(x) - np.min(x))\n",
    "\n",
    "\n",
    "\"\"\"\n",
    "DON'T MODIFY ANYTHING IN THIS CELL THAT IS BELOW THIS LINE\n",
    "\"\"\"\n",
    "tests.test_normalize(normalize)"
   ]
  },
  {
   "cell_type": "markdown",
   "metadata": {},
   "source": [
    "### One-hot encode\n",
    "Just like the previous code cell, you'll be implementing a function for preprocessing.  This time, you'll implement the `one_hot_encode` function. The input, `x`, are a list of labels.  Implement the function to return the list of labels as One-Hot encoded Numpy array.  The possible values for labels are 0 to 9. The one-hot encoding function should return the same encoding for each value between each call to `one_hot_encode`.  Make sure to save the map of encodings outside the function.\n",
    "\n",
    "Hint: Don't reinvent the wheel."
   ]
  },
  {
   "cell_type": "code",
   "execution_count": 4,
   "metadata": {
    "collapsed": false
   },
   "outputs": [
    {
     "name": "stdout",
     "output_type": "stream",
     "text": [
      "Tests Passed\n"
     ]
    }
   ],
   "source": [
    "from sklearn.preprocessing import LabelBinarizer\n",
    "encoder = LabelBinarizer()\n",
    "encoder.fit(range(10))\n",
    "\n",
    "def one_hot_encode(x):\n",
    "    \"\"\"\n",
    "    One hot encode a list of sample labels. Return a one-hot encoded vector for each label.\n",
    "    : x: List of sample Labels\n",
    "    : return: Numpy array of one-hot encoded labels\n",
    "    \"\"\"\n",
    "\n",
    "    # TODO: Implement Function\n",
    "    return encoder.transform(x)\n",
    "\n",
    "\n",
    "\"\"\"\n",
    "DON'T MODIFY ANYTHING IN THIS CELL THAT IS BELOW THIS LINE\n",
    "\"\"\"\n",
    "tests.test_one_hot_encode(one_hot_encode)"
   ]
  },
  {
   "cell_type": "markdown",
   "metadata": {},
   "source": [
    "### Randomize Data\n",
    "As you saw from exploring the data above, the order of the samples are randomized.  It doesn't hurt to randomize it again, but you don't need to for this dataset."
   ]
  },
  {
   "cell_type": "markdown",
   "metadata": {},
   "source": [
    "## Preprocess all the data and save it\n",
    "Running the code cell below will preprocess all the CIFAR-10 data and save it to file. The code below also uses 10% of the training data for validation."
   ]
  },
  {
   "cell_type": "code",
   "execution_count": 5,
   "metadata": {
    "collapsed": false
   },
   "outputs": [],
   "source": [
    "\"\"\"\n",
    "DON'T MODIFY ANYTHING IN THIS CELL\n",
    "\"\"\"\n",
    "# Preprocess Training, Validation, and Testing Data\n",
    "helper.preprocess_and_save_data(cifar10_dataset_folder_path, normalize, one_hot_encode)"
   ]
  },
  {
   "cell_type": "markdown",
   "metadata": {},
   "source": [
    "# Check Point\n",
    "This is your first checkpoint.  If you ever decide to come back to this notebook or have to restart the notebook, you can start from here.  The preprocessed data has been saved to disk."
   ]
  },
  {
   "cell_type": "code",
   "execution_count": 6,
   "metadata": {
    "collapsed": true
   },
   "outputs": [],
   "source": [
    "\"\"\"\n",
    "DON'T MODIFY ANYTHING IN THIS CELL\n",
    "\"\"\"\n",
    "import pickle\n",
    "import problem_unittests as tests\n",
    "import helper\n",
    "\n",
    "# Load the Preprocessed Validation data\n",
    "valid_features, valid_labels = pickle.load(open('preprocess_validation.p', mode='rb'))"
   ]
  },
  {
   "cell_type": "markdown",
   "metadata": {},
   "source": [
    "## Build the network\n",
    "For the neural network, you'll build each layer into a function.  Most of the code you've seen has been outside of functions. To test your code more thoroughly, we require that you put each layer in a function.  This allows us to give you better feedback and test for simple mistakes using our unittests before you submit your project.\n",
    "\n",
    ">**Note:** If you're finding it hard to dedicate enough time for this course each week, we've provided a small shortcut to this part of the project. In the next couple of problems, you'll have the option to use classes from the [TensorFlow Layers](https://www.tensorflow.org/api_docs/python/tf/layers) or [TensorFlow Layers (contrib)](https://www.tensorflow.org/api_guides/python/contrib.layers) packages to build each layer, except the layers you build in the \"Convolutional and Max Pooling Layer\" section.  TF Layers is similar to Keras's and TFLearn's abstraction to layers, so it's easy to pickup.\n",
    "\n",
    ">However, if you would like to get the most out of this course, try to solve all the problems _without_ using anything from the TF Layers packages. You **can** still use classes from other packages that happen to have the same name as ones you find in TF Layers! For example, instead of using the TF Layers version of the `conv2d` class, [tf.layers.conv2d](https://www.tensorflow.org/api_docs/python/tf/layers/conv2d), you would want to use the TF Neural Network version of `conv2d`, [tf.nn.conv2d](https://www.tensorflow.org/api_docs/python/tf/nn/conv2d). \n",
    "\n",
    "Let's begin!\n",
    "\n",
    "### Input\n",
    "The neural network needs to read the image data, one-hot encoded labels, and dropout keep probability. Implement the following functions\n",
    "* Implement `neural_net_image_input`\n",
    " * Return a [TF Placeholder](https://www.tensorflow.org/api_docs/python/tf/placeholder)\n",
    " * Set the shape using `image_shape` with batch size set to `None`.\n",
    " * Name the TensorFlow placeholder \"x\" using the TensorFlow `name` parameter in the [TF Placeholder](https://www.tensorflow.org/api_docs/python/tf/placeholder).\n",
    "* Implement `neural_net_label_input`\n",
    " * Return a [TF Placeholder](https://www.tensorflow.org/api_docs/python/tf/placeholder)\n",
    " * Set the shape using `n_classes` with batch size set to `None`.\n",
    " * Name the TensorFlow placeholder \"y\" using the TensorFlow `name` parameter in the [TF Placeholder](https://www.tensorflow.org/api_docs/python/tf/placeholder).\n",
    "* Implement `neural_net_keep_prob_input`\n",
    " * Return a [TF Placeholder](https://www.tensorflow.org/api_docs/python/tf/placeholder) for dropout keep probability.\n",
    " * Name the TensorFlow placeholder \"keep_prob\" using the TensorFlow `name` parameter in the [TF Placeholder](https://www.tensorflow.org/api_docs/python/tf/placeholder).\n",
    "\n",
    "These names will be used at the end of the project to load your saved model.\n",
    "\n",
    "Note: `None` for shapes in TensorFlow allow for a dynamic size."
   ]
  },
  {
   "cell_type": "code",
   "execution_count": 7,
   "metadata": {
    "collapsed": false
   },
   "outputs": [
    {
     "name": "stdout",
     "output_type": "stream",
     "text": [
      "Image Input Tests Passed.\n",
      "Label Input Tests Passed.\n",
      "Keep Prob Tests Passed.\n"
     ]
    }
   ],
   "source": [
    "import tensorflow as tf\n",
    "\n",
    "def neural_net_image_input(image_shape):\n",
    "    \"\"\"\n",
    "    Return a Tensor for a bach of image input\n",
    "    : image_shape: Shape of the images\n",
    "    : return: Tensor for image input.\n",
    "    \"\"\"\n",
    "    # TODO: Implement Function\n",
    "    image_shape = list(image_shape)\n",
    "    size = [None]\n",
    "    for i in image_shape:\n",
    "        size.append(i)\n",
    "        \n",
    "    size = (tuple(size))\n",
    "    return tf.placeholder(dtype = tf.float32, shape = size, name = \"x\")\n",
    "\n",
    "\n",
    "def neural_net_label_input(n_classes):\n",
    "    \"\"\"\n",
    "    Return a Tensor for a batch of label input\n",
    "    : n_classes: Number of classes\n",
    "    : return: Tensor for label input.\n",
    "    \"\"\"\n",
    "    # TODO: Implement Function\n",
    "    return tf.placeholder(tf.float32, shape = (None, n_classes), name =\"y\")\n",
    "\n",
    "\n",
    "def neural_net_keep_prob_input():\n",
    "    \"\"\"\n",
    "    Return a Tensor for keep probability\n",
    "    : return: Tensor for keep probability.\n",
    "    \"\"\"\n",
    "    # TODO: Implement Function\n",
    "    return tf.placeholder(tf.float32, shape = (None), name = \"keep_prob\")\n",
    "\n",
    "\n",
    "\"\"\"\n",
    "DON'T MODIFY ANYTHING IN THIS CELL THAT IS BELOW THIS LINE\n",
    "\"\"\"\n",
    "tf.reset_default_graph()\n",
    "tests.test_nn_image_inputs(neural_net_image_input)\n",
    "tests.test_nn_label_inputs(neural_net_label_input)\n",
    "tests.test_nn_keep_prob_inputs(neural_net_keep_prob_input)"
   ]
  },
  {
   "cell_type": "markdown",
   "metadata": {},
   "source": [
    "### Convolution and Max Pooling Layer\n",
    "Convolution layers have a lot of success with images. For this code cell, you should implement the function `conv2d_maxpool` to apply convolution then max pooling:\n",
    "* Create the weight and bias using `conv_ksize`, `conv_num_outputs` and the shape of `x_tensor`.\n",
    "* Apply a convolution to `x_tensor` using weight and `conv_strides`.\n",
    " * We recommend you use same padding, but you're welcome to use any padding.\n",
    "* Add bias\n",
    "* Add a nonlinear activation to the convolution.\n",
    "* Apply Max Pooling using `pool_ksize` and `pool_strides`.\n",
    " * We recommend you use same padding, but you're welcome to use any padding.\n",
    "\n",
    "**Note:** You **can't** use [TensorFlow Layers](https://www.tensorflow.org/api_docs/python/tf/layers) or [TensorFlow Layers (contrib)](https://www.tensorflow.org/api_guides/python/contrib.layers) for **this** layer, but you can still use TensorFlow's [Neural Network](https://www.tensorflow.org/api_docs/python/tf/nn) package. You may still use the shortcut option for all the **other** layers."
   ]
  },
  {
   "cell_type": "code",
   "execution_count": 9,
   "metadata": {
    "collapsed": false,
    "scrolled": false
   },
   "outputs": [
    {
     "name": "stdout",
     "output_type": "stream",
     "text": [
      "Tests Passed\n"
     ]
    }
   ],
   "source": [
    "def conv2d_maxpool(x_tensor, conv_num_outputs, conv_ksize, conv_strides, pool_ksize, pool_strides):\n",
    "    \"\"\"\n",
    "    Apply convolution then max pooling to x_tensor\n",
    "    :param x_tensor: TensorFlow Tensor\n",
    "    :param conv_num_outputs: Number of outputs for the convolutional layer\n",
    "    :param conv_ksize: kernal size 2-D Tuple for the convolutional layer\n",
    "    :param conv_strides: Stride 2-D Tuple for convolution\n",
    "    :param pool_ksize: kernal size 2-D Tuple for pool\n",
    "    :param pool_strides: Stride 2-D Tuple for pool\n",
    "    : return: A tensor that represents convolution and max pooling of x_tensor\n",
    "    \"\"\"\n",
    "    # TODO: Implement Function\n",
    "    # TODO: Implement Function\n",
    "    x = 0\n",
    "    y = 1\n",
    "    z = 3\n",
    "    weight = tf.Variable(tf.truncated_normal([conv_ksize[x],\n",
    "                                              conv_ksize[y],\n",
    "                                              int(x_tensor.shape[z]),\n",
    "                                              conv_num_outputs],\n",
    "                                             stddev=0.05))\n",
    "    \n",
    "    bias = tf.Variable(tf.constant(0.05, shape=[conv_num_outputs]))\n",
    "\n",
    "    x_tensor = tf.nn.conv2d(x_tensor, \n",
    "                            weight, \n",
    "                            strides=[1, \n",
    "                                     conv_strides[x], \n",
    "                                     conv_strides[y],\n",
    "                                     1],\n",
    "                            padding='SAME')\n",
    "    \n",
    "    x_tensor = tf.nn.bias_add(x_tensor, bias)\n",
    "    \n",
    "    x_tensor = tf.nn.relu(x_tensor)\n",
    "    \n",
    "    x_tensor = tf.nn.max_pool(x_tensor, \n",
    "                              ksize=[1, \n",
    "                                     pool_ksize[x], \n",
    "                                     pool_ksize[y], \n",
    "                                     1], \n",
    "                              strides=[1, \n",
    "                                       pool_strides[x], \n",
    "                                       pool_strides[y], \n",
    "                                       1], \n",
    "                              padding='SAME')\n",
    "    return x_tensor\n",
    "\n",
    "    #weights = tf.Variable(tf.truncated_normal([conv_ksize[0], conv_ksize[1], \n",
    "    #                                          conv_num_outputs, int(x_tensor.shape[3])],\n",
    "    #                                           stddev = 0.05))\n",
    "    \n",
    "    #bias = tf.Variable(tf.constant(0.05, shape=[conv_num_outputs]))\n",
    "    \n",
    "    #conv = tf.nn.conv2d(x_tensor, weights, strides=[1, conv_strides[0], conv_strides[1], 1], padding='SAME')\n",
    "    #conv = tf.nn.bias_add(conv, bias)\n",
    "    \n",
    "    #conv = tf.nn.relu(conv)\n",
    "    #conv = tf.nn.max_pool(conv, ksize=[1, pool_ksize[0], pool_ksize[1], 1], \n",
    "    #                      strides=[1, pool_strides[0], pool_strides[1], 1], padding='SAME')\n",
    "    \n",
    "    \n",
    "    #return conv \n",
    "\n",
    "\n",
    "\"\"\"\n",
    "DON'T MODIFY ANYTHING IN THIS CELL THAT IS BELOW THIS LINE\n",
    "\"\"\"\n",
    "tests.test_con_pool(conv2d_maxpool)"
   ]
  },
  {
   "cell_type": "markdown",
   "metadata": {},
   "source": [
    "### Flatten Layer\n",
    "Implement the `flatten` function to change the dimension of `x_tensor` from a 4-D tensor to a 2-D tensor.  The output should be the shape (*Batch Size*, *Flattened Image Size*). Shortcut option: you can use classes from the [TensorFlow Layers](https://www.tensorflow.org/api_docs/python/tf/layers) or [TensorFlow Layers (contrib)](https://www.tensorflow.org/api_guides/python/contrib.layers) packages for this layer. For more of a challenge, only use other TensorFlow packages."
   ]
  },
  {
   "cell_type": "code",
   "execution_count": 10,
   "metadata": {
    "collapsed": false
   },
   "outputs": [
    {
     "name": "stdout",
     "output_type": "stream",
     "text": [
      "Tests Passed\n"
     ]
    }
   ],
   "source": [
    "def flatten(x_tensor):\n",
    "    \"\"\"\n",
    "    Flatten x_tensor to (Batch Size, Flattened Image Size)\n",
    "    : x_tensor: A tensor of size (Batch Size, ...), where ... are the image dimensions.\n",
    "    : return: A tensor of size (Batch Size, Flattened Image Size).\n",
    "    \"\"\"\n",
    "    # TODO: Implement Function\n",
    "    return tf.reshape(x_tensor, [-1, int(x_tensor.shape[1] * x_tensor.shape[2] * x_tensor.shape[3])])\n",
    "\n",
    "\n",
    "\"\"\"\n",
    "DON'T MODIFY ANYTHING IN THIS CELL THAT IS BELOW THIS LINE\n",
    "\"\"\"\n",
    "tests.test_flatten(flatten)"
   ]
  },
  {
   "cell_type": "markdown",
   "metadata": {},
   "source": [
    "### Fully-Connected Layer\n",
    "Implement the `fully_conn` function to apply a fully connected layer to `x_tensor` with the shape (*Batch Size*, *num_outputs*). Shortcut option: you can use classes from the [TensorFlow Layers](https://www.tensorflow.org/api_docs/python/tf/layers) or [TensorFlow Layers (contrib)](https://www.tensorflow.org/api_guides/python/contrib.layers) packages for this layer. For more of a challenge, only use other TensorFlow packages."
   ]
  },
  {
   "cell_type": "code",
   "execution_count": 12,
   "metadata": {
    "collapsed": false
   },
   "outputs": [
    {
     "name": "stdout",
     "output_type": "stream",
     "text": [
      "Tests Passed\n"
     ]
    }
   ],
   "source": [
    "def fully_conn(x_tensor, num_outputs):\n",
    "    \"\"\"\n",
    "    Apply a fully connected layer to x_tensor using weight and bias\n",
    "    : x_tensor: A 2-D tensor where the first dimension is batch size.\n",
    "    : num_outputs: The number of output that the new tensor should be.\n",
    "    : return: A 2-D tensor where the second dimension is num_outputs.\n",
    "    \"\"\"\n",
    "    # TODO: Implement Function\n",
    "    weights = tf.Variable(tf.truncated_normal([int(x_tensor.shape[1]),\n",
    "                                               num_outputs],\n",
    "                                              stddev=0.05))\n",
    "    \n",
    "    bias = tf.Variable(tf.constant(0.05, shape=[num_outputs]))\n",
    "\n",
    "    fc_layer = tf.add(tf.matmul(x_tensor, weights), bias)\n",
    "    \n",
    "    fc_layer = tf.nn.relu(fc_layer)\n",
    "    \n",
    "    return fc_layer\n",
    "\n",
    "\n",
    "\"\"\"\n",
    "DON'T MODIFY ANYTHING IN THIS CELL THAT IS BELOW THIS LINE\n",
    "\"\"\"\n",
    "tests.test_fully_conn(fully_conn)"
   ]
  },
  {
   "cell_type": "markdown",
   "metadata": {},
   "source": [
    "### Output Layer\n",
    "Implement the `output` function to apply a fully connected layer to `x_tensor` with the shape (*Batch Size*, *num_outputs*). Shortcut option: you can use classes from the [TensorFlow Layers](https://www.tensorflow.org/api_docs/python/tf/layers) or [TensorFlow Layers (contrib)](https://www.tensorflow.org/api_guides/python/contrib.layers) packages for this layer. For more of a challenge, only use other TensorFlow packages.\n",
    "\n",
    "**Note:** Activation, softmax, or cross entropy should **not** be applied to this."
   ]
  },
  {
   "cell_type": "code",
   "execution_count": 25,
   "metadata": {
    "collapsed": false
   },
   "outputs": [
    {
     "name": "stdout",
     "output_type": "stream",
     "text": [
      "Tests Passed\n"
     ]
    }
   ],
   "source": [
    "def output(x_tensor, num_outputs):\n",
    "    \"\"\"\n",
    "    Apply a output layer to x_tensor using weight and bias\n",
    "    : x_tensor: A 2-D tensor where the first dimension is batch size.\n",
    "    : num_outputs: The number of output that the new tensor should be.\n",
    "    : return: A 2-D tensor where the second dimension is num_outputs.\n",
    "    \"\"\"\n",
    "    # TODO: Implement Function\n",
    "    weights = tf.Variable(tf.truncated_normal([int(x_tensor.shape[1]), \n",
    "                                               num_outputs],\n",
    "                                              stddev=0.05))\n",
    "    \n",
    "    bias = tf.Variable(tf.constant(0.05, shape=[num_outputs]))\n",
    "\n",
    "    output_layer = tf.add(tf.matmul(x_tensor, weights), bias)\n",
    "    \n",
    "    return output_layer\n",
    "\n",
    "\n",
    "\"\"\"\n",
    "DON'T MODIFY ANYTHING IN THIS CELL THAT IS BELOW THIS LINE\n",
    "\"\"\"\n",
    "tests.test_output(output)"
   ]
  },
  {
   "cell_type": "markdown",
   "metadata": {},
   "source": [
    "### Create Convolutional Model\n",
    "Implement the function `conv_net` to create a convolutional neural network model. The function takes in a batch of images, `x`, and outputs logits.  Use the layers you created above to create this model:\n",
    "\n",
    "* Apply 1, 2, or 3 Convolution and Max Pool layers\n",
    "* Apply a Flatten Layer\n",
    "* Apply 1, 2, or 3 Fully Connected Layers\n",
    "* Apply an Output Layer\n",
    "* Return the output\n",
    "* Apply [TensorFlow's Dropout](https://www.tensorflow.org/api_docs/python/tf/nn/dropout) to one or more layers in the model using `keep_prob`. "
   ]
  },
  {
   "cell_type": "code",
   "execution_count": 14,
   "metadata": {
    "collapsed": false
   },
   "outputs": [
    {
     "name": "stdout",
     "output_type": "stream",
     "text": [
      "Neural Network Built!\n"
     ]
    }
   ],
   "source": [
    "def conv_net(x, keep_prob):\n",
    "    \"\"\"\n",
    "    Create a convolutional neural network model\n",
    "    : x: Placeholder tensor that holds image data.\n",
    "    : keep_prob: Placeholder tensor that hold dropout keep probability.\n",
    "    : return: Tensor that represents logits\n",
    "    \"\"\"\n",
    "    # TODO: Apply 1, 2, or 3 Convolution and Max Pool layers\n",
    "    #    Play around with different number of outputs, kernel size and stride\n",
    "    # Function Definition from Above:\n",
    "    #    conv2d_maxpool(x_tensor, conv_num_outputs, conv_ksize, conv_strides, pool_ksize, pool_strides)\n",
    "    \n",
    "\n",
    "    conv1 = conv2d_maxpool(x_tensor=x, \n",
    "                           conv_num_outputs=40, \n",
    "                           conv_ksize=(5, 5), \n",
    "                           conv_strides=(1, 1), \n",
    "                           pool_ksize=(2, 2), \n",
    "                           pool_strides=(1, 1))\n",
    "    conv2 = conv2d_maxpool(x_tensor=conv1,\n",
    "                           conv_num_outputs=30,\n",
    "                           conv_ksize=(4, 4),\n",
    "                           conv_strides=(1, 1),\n",
    "                           pool_ksize=(2, 2),\n",
    "                           pool_strides=(1, 1))\n",
    "        \n",
    "\n",
    "    # TODO: Apply a Flatten Layer\n",
    "    # Function Definition from Above:\n",
    "    #   flatten(x_tensor)\n",
    "    flat_layer = flatten(conv2)\n",
    "\n",
    "    # TODO: Apply 1, 2, or 3 Fully Connected Layers\n",
    "    #    Play around with different number of outputs\n",
    "    # Function Definition from Above:\n",
    "    #   fully_conn(x_tensor, num_outputs)\n",
    "    fc1 = fully_conn(flat_layer, 15)\n",
    "    fc1 = tf.nn.dropout(fc1, keep_prob)\n",
    "    \n",
    "    # TODO: Apply an Output Layer\n",
    "    #    Set this to the number of classes\n",
    "    # Function Definition from Above:\n",
    "    output_layer = output(fc1, 10)\n",
    "    \n",
    "    \n",
    "    # TODO: return output\n",
    "    return output_layer\n",
    "\n",
    "\n",
    "\n",
    "\"\"\"\n",
    "DON'T MODIFY ANYTHING IN THIS CELL THAT IS BELOW THIS LINE\n",
    "\"\"\"\n",
    "\n",
    "##############################\n",
    "## Build the Neural Network ##\n",
    "##############################\n",
    "\n",
    "# Remove previous weights, bias, inputs, etc..\n",
    "tf.reset_default_graph()\n",
    "\n",
    "# Inputs\n",
    "x = neural_net_image_input((32, 32, 3))\n",
    "y = neural_net_label_input(10)\n",
    "keep_prob = neural_net_keep_prob_input()\n",
    "\n",
    "# Model\n",
    "logits = conv_net(x, keep_prob)\n",
    "\n",
    "# Name logits Tensor, so that is can be loaded from disk after training\n",
    "logits = tf.identity(logits, name='logits')\n",
    "\n",
    "# Loss and Optimizer\n",
    "cost = tf.reduce_mean(tf.nn.softmax_cross_entropy_with_logits(logits=logits, labels=y))\n",
    "optimizer = tf.train.AdamOptimizer().minimize(cost)\n",
    "\n",
    "# Accuracy\n",
    "correct_pred = tf.equal(tf.argmax(logits, 1), tf.argmax(y, 1))\n",
    "accuracy = tf.reduce_mean(tf.cast(correct_pred, tf.float32), name='accuracy')\n",
    "\n",
    "tests.test_conv_net(conv_net)"
   ]
  },
  {
   "cell_type": "markdown",
   "metadata": {},
   "source": [
    "## Train the Neural Network\n",
    "### Single Optimization\n",
    "Implement the function `train_neural_network` to do a single optimization.  The optimization should use `optimizer` to optimize in `session` with a `feed_dict` of the following:\n",
    "* `x` for image input\n",
    "* `y` for labels\n",
    "* `keep_prob` for keep probability for dropout\n",
    "\n",
    "This function will be called for each batch, so `tf.global_variables_initializer()` has already been called.\n",
    "\n",
    "Note: Nothing needs to be returned. This function is only optimizing the neural network."
   ]
  },
  {
   "cell_type": "code",
   "execution_count": 15,
   "metadata": {
    "collapsed": false
   },
   "outputs": [
    {
     "name": "stdout",
     "output_type": "stream",
     "text": [
      "Tests Passed\n"
     ]
    }
   ],
   "source": [
    "def train_neural_network(session, optimizer, keep_probability, feature_batch, label_batch):\n",
    "    \"\"\"\n",
    "    Optimize the session on a batch of images and labels\n",
    "    : session: Current TensorFlow session\n",
    "    : optimizer: TensorFlow optimizer function\n",
    "    : keep_probability: keep probability\n",
    "    : feature_batch: Batch of Numpy image data\n",
    "    : label_batch: Batch of Numpy label data\n",
    "    \"\"\"\n",
    "    # TODO: Implement Function\n",
    "    session.run(optimizer,\n",
    "                feed_dict={x: feature_batch,\n",
    "                           y: label_batch,\n",
    "                           keep_prob: keep_probability})\n",
    "\n",
    "\n",
    "\n",
    "\"\"\"\n",
    "DON'T MODIFY ANYTHING IN THIS CELL THAT IS BELOW THIS LINE\n",
    "\"\"\"\n",
    "tests.test_train_nn(train_neural_network)"
   ]
  },
  {
   "cell_type": "markdown",
   "metadata": {},
   "source": [
    "### Show Stats\n",
    "Implement the function `print_stats` to print loss and validation accuracy.  Use the global variables `valid_features` and `valid_labels` to calculate validation accuracy.  Use a keep probability of `1.0` to calculate the loss and validation accuracy."
   ]
  },
  {
   "cell_type": "code",
   "execution_count": 21,
   "metadata": {
    "collapsed": false
   },
   "outputs": [],
   "source": [
    "def print_stats(session, feature_batch, label_batch, cost, accuracy):\n",
    "    \"\"\"\n",
    "    Print information about loss and validation accuracy\n",
    "    : session: Current TensorFlow session\n",
    "    : feature_batch: Batch of Numpy image data\n",
    "    : label_batch: Batch of Numpy label data\n",
    "    : cost: TensorFlow cost function\n",
    "    : accuracy: TensorFlow accuracy function\n",
    "    \"\"\"\n",
    "    # TODO: Implement Function\n",
    "    loss = session.run(cost,\n",
    "                       feed_dict={x: feature_batch,\n",
    "                                  y: label_batch,\n",
    "                                  keep_prob: 1.0})\n",
    "    \n",
    "    valid_acc = session.run(accuracy, \n",
    "                            feed_dict={x: valid_features,\n",
    "                                       y: valid_labels,\n",
    "                                       keep_prob: 1.0})\n",
    "    \n",
    "    print(\"Training Loss:\", loss, \", Validation Accuracy:\", valid_acc)"
   ]
  },
  {
   "cell_type": "markdown",
   "metadata": {},
   "source": [
    "### Hyperparameters\n",
    "Tune the following parameters:\n",
    "* Set `epochs` to the number of iterations until the network stops learning or start overfitting\n",
    "* Set `batch_size` to the highest number that your machine has memory for.  Most people set them to common sizes of memory:\n",
    " * 64\n",
    " * 128\n",
    " * 256\n",
    " * ...\n",
    "* Set `keep_probability` to the probability of keeping a node using dropout"
   ]
  },
  {
   "cell_type": "code",
   "execution_count": 17,
   "metadata": {
    "collapsed": true
   },
   "outputs": [],
   "source": [
    "# TODO: Tune Parameters\n",
    "epochs = 40\n",
    "batch_size = 128\n",
    "keep_probability = 0.7"
   ]
  },
  {
   "cell_type": "markdown",
   "metadata": {},
   "source": [
    "### Train on a Single CIFAR-10 Batch\n",
    "Instead of training the neural network on all the CIFAR-10 batches of data, let's use a single batch. This should save time while you iterate on the model to get a better accuracy.  Once the final validation accuracy is 50% or greater, run the model on all the data in the next section."
   ]
  },
  {
   "cell_type": "code",
   "execution_count": 22,
   "metadata": {
    "collapsed": false
   },
   "outputs": [
    {
     "name": "stdout",
     "output_type": "stream",
     "text": [
      "Checking the Training on a Single Batch...\n",
      "Epoch  1, CIFAR-10 Batch 1:  Training Loss: 2.17551 , Validation Accuracy: 0.32\n",
      "Epoch  2, CIFAR-10 Batch 1:  Training Loss: 2.1525 , Validation Accuracy: 0.3602\n",
      "Epoch  3, CIFAR-10 Batch 1:  Training Loss: 2.1207 , Validation Accuracy: 0.386\n",
      "Epoch  4, CIFAR-10 Batch 1:  Training Loss: 2.11199 , Validation Accuracy: 0.4014\n",
      "Epoch  5, CIFAR-10 Batch 1:  Training Loss: 2.09082 , Validation Accuracy: 0.4064\n",
      "Epoch  6, CIFAR-10 Batch 1:  Training Loss: 2.1641 , Validation Accuracy: 0.4084\n",
      "Epoch  7, CIFAR-10 Batch 1:  Training Loss: 2.0752 , Validation Accuracy: 0.4314\n",
      "Epoch  8, CIFAR-10 Batch 1:  Training Loss: 2.03894 , Validation Accuracy: 0.4242\n",
      "Epoch  9, CIFAR-10 Batch 1:  Training Loss: 2.03228 , Validation Accuracy: 0.407\n",
      "Epoch 10, CIFAR-10 Batch 1:  Training Loss: 2.04848 , Validation Accuracy: 0.3998\n",
      "Epoch 11, CIFAR-10 Batch 1:  Training Loss: 2.01422 , Validation Accuracy: 0.4312\n",
      "Epoch 12, CIFAR-10 Batch 1:  Training Loss: 2.03151 , Validation Accuracy: 0.4522\n",
      "Epoch 13, CIFAR-10 Batch 1:  Training Loss: 1.99801 , Validation Accuracy: 0.4438\n",
      "Epoch 14, CIFAR-10 Batch 1:  Training Loss: 2.01525 , Validation Accuracy: 0.453\n",
      "Epoch 15, CIFAR-10 Batch 1:  Training Loss: 1.98205 , Validation Accuracy: 0.4458\n",
      "Epoch 16, CIFAR-10 Batch 1:  Training Loss: 1.94882 , Validation Accuracy: 0.455\n",
      "Epoch 17, CIFAR-10 Batch 1:  Training Loss: 1.97259 , Validation Accuracy: 0.4544\n",
      "Epoch 18, CIFAR-10 Batch 1:  Training Loss: 1.96421 , Validation Accuracy: 0.4672\n",
      "Epoch 19, CIFAR-10 Batch 1:  Training Loss: 1.94744 , Validation Accuracy: 0.4684\n",
      "Epoch 20, CIFAR-10 Batch 1:  Training Loss: 1.98404 , Validation Accuracy: 0.435\n",
      "Epoch 21, CIFAR-10 Batch 1:  Training Loss: 1.97117 , Validation Accuracy: 0.481\n",
      "Epoch 22, CIFAR-10 Batch 1:  Training Loss: 1.90485 , Validation Accuracy: 0.4846\n",
      "Epoch 23, CIFAR-10 Batch 1:  Training Loss: 1.9292 , Validation Accuracy: 0.4434\n",
      "Epoch 24, CIFAR-10 Batch 1:  Training Loss: 1.90214 , Validation Accuracy: 0.4828\n",
      "Epoch 25, CIFAR-10 Batch 1:  Training Loss: 1.88001 , Validation Accuracy: 0.4762\n",
      "Epoch 26, CIFAR-10 Batch 1:  Training Loss: 1.87555 , Validation Accuracy: 0.474\n",
      "Epoch 27, CIFAR-10 Batch 1:  Training Loss: 1.89099 , Validation Accuracy: 0.4808\n",
      "Epoch 28, CIFAR-10 Batch 1:  Training Loss: 1.90415 , Validation Accuracy: 0.4632\n",
      "Epoch 29, CIFAR-10 Batch 1:  Training Loss: 1.88509 , Validation Accuracy: 0.4858\n",
      "Epoch 30, CIFAR-10 Batch 1:  Training Loss: 1.86566 , Validation Accuracy: 0.4872\n",
      "Epoch 31, CIFAR-10 Batch 1:  Training Loss: 1.78711 , Validation Accuracy: 0.4538\n",
      "Epoch 32, CIFAR-10 Batch 1:  Training Loss: 1.7956 , Validation Accuracy: 0.4854\n",
      "Epoch 33, CIFAR-10 Batch 1:  Training Loss: 1.9048 , Validation Accuracy: 0.4302\n",
      "Epoch 34, CIFAR-10 Batch 1:  Training Loss: 1.77297 , Validation Accuracy: 0.4788\n",
      "Epoch 35, CIFAR-10 Batch 1:  Training Loss: 1.81788 , Validation Accuracy: 0.4984\n",
      "Epoch 36, CIFAR-10 Batch 1:  Training Loss: 1.75731 , Validation Accuracy: 0.5058\n",
      "Epoch 37, CIFAR-10 Batch 1:  Training Loss: 1.77443 , Validation Accuracy: 0.505\n",
      "Epoch 38, CIFAR-10 Batch 1:  Training Loss: 1.7257 , Validation Accuracy: 0.495\n",
      "Epoch 39, CIFAR-10 Batch 1:  Training Loss: 1.72072 , Validation Accuracy: 0.491\n",
      "Epoch 40, CIFAR-10 Batch 1:  Training Loss: 1.75221 , Validation Accuracy: 0.4786\n"
     ]
    }
   ],
   "source": [
    "\"\"\"\n",
    "DON'T MODIFY ANYTHING IN THIS CELL\n",
    "\"\"\"\n",
    "print('Checking the Training on a Single Batch...')\n",
    "with tf.Session() as sess:\n",
    "    # Initializing the variables\n",
    "    sess.run(tf.global_variables_initializer())\n",
    "    \n",
    "    # Training cycle\n",
    "    for epoch in range(epochs):\n",
    "        batch_i = 1\n",
    "        for batch_features, batch_labels in helper.load_preprocess_training_batch(batch_i, batch_size):\n",
    "            train_neural_network(sess, optimizer, keep_probability, batch_features, batch_labels)\n",
    "        print('Epoch {:>2}, CIFAR-10 Batch {}:  '.format(epoch + 1, batch_i), end='')\n",
    "        print_stats(sess, batch_features, batch_labels, cost, accuracy)"
   ]
  },
  {
   "cell_type": "markdown",
   "metadata": {},
   "source": [
    "### Fully Train the Model\n",
    "Now that you got a good accuracy with a single CIFAR-10 batch, try it with all five batches."
   ]
  },
  {
   "cell_type": "code",
   "execution_count": 23,
   "metadata": {
    "collapsed": false,
    "scrolled": true
   },
   "outputs": [
    {
     "name": "stdout",
     "output_type": "stream",
     "text": [
      "Training...\n",
      "Epoch  1, CIFAR-10 Batch 1:  Training Loss: 2.21273 , Validation Accuracy: 0.2684\n",
      "Epoch  1, CIFAR-10 Batch 2:  Training Loss: 2.15435 , Validation Accuracy: 0.316\n",
      "Epoch  1, CIFAR-10 Batch 3:  Training Loss: 2.01986 , Validation Accuracy: 0.3478\n",
      "Epoch  1, CIFAR-10 Batch 4:  Training Loss: 2.14343 , Validation Accuracy: 0.354\n",
      "Epoch  1, CIFAR-10 Batch 5:  Training Loss: 2.12637 , Validation Accuracy: 0.3644\n",
      "Epoch  2, CIFAR-10 Batch 1:  Training Loss: 2.08979 , Validation Accuracy: 0.389\n",
      "Epoch  2, CIFAR-10 Batch 2:  Training Loss: 2.06686 , Validation Accuracy: 0.4012\n",
      "Epoch  2, CIFAR-10 Batch 3:  Training Loss: 1.99756 , Validation Accuracy: 0.3478\n",
      "Epoch  2, CIFAR-10 Batch 4:  Training Loss: 2.14938 , Validation Accuracy: 0.3798\n",
      "Epoch  2, CIFAR-10 Batch 5:  Training Loss: 2.08272 , Validation Accuracy: 0.4036\n",
      "Epoch  3, CIFAR-10 Batch 1:  Training Loss: 2.0795 , Validation Accuracy: 0.4032\n",
      "Epoch  3, CIFAR-10 Batch 2:  Training Loss: 2.02401 , Validation Accuracy: 0.403\n",
      "Epoch  3, CIFAR-10 Batch 3:  Training Loss: 1.87565 , Validation Accuracy: 0.4254\n",
      "Epoch  3, CIFAR-10 Batch 4:  Training Loss: 2.11203 , Validation Accuracy: 0.4118\n",
      "Epoch  3, CIFAR-10 Batch 5:  Training Loss: 2.09004 , Validation Accuracy: 0.3966\n",
      "Epoch  4, CIFAR-10 Batch 1:  Training Loss: 2.09103 , Validation Accuracy: 0.4448\n",
      "Epoch  4, CIFAR-10 Batch 2:  Training Loss: 1.98622 , Validation Accuracy: 0.4384\n",
      "Epoch  4, CIFAR-10 Batch 3:  Training Loss: 1.90639 , Validation Accuracy: 0.4526\n",
      "Epoch  4, CIFAR-10 Batch 4:  Training Loss: 2.01971 , Validation Accuracy: 0.4182\n",
      "Epoch  4, CIFAR-10 Batch 5:  Training Loss: 2.02769 , Validation Accuracy: 0.4562\n",
      "Epoch  5, CIFAR-10 Batch 1:  Training Loss: 2.06921 , Validation Accuracy: 0.4472\n",
      "Epoch  5, CIFAR-10 Batch 2:  Training Loss: 1.96463 , Validation Accuracy: 0.4618\n",
      "Epoch  5, CIFAR-10 Batch 3:  Training Loss: 1.89815 , Validation Accuracy: 0.4774\n",
      "Epoch  5, CIFAR-10 Batch 4:  Training Loss: 1.95235 , Validation Accuracy: 0.4814\n",
      "Epoch  5, CIFAR-10 Batch 5:  Training Loss: 1.97934 , Validation Accuracy: 0.474\n",
      "Epoch  6, CIFAR-10 Batch 1:  Training Loss: 2.0727 , Validation Accuracy: 0.465\n",
      "Epoch  6, CIFAR-10 Batch 2:  Training Loss: 2.00206 , Validation Accuracy: 0.4938\n",
      "Epoch  6, CIFAR-10 Batch 3:  Training Loss: 1.93637 , Validation Accuracy: 0.4658\n",
      "Epoch  6, CIFAR-10 Batch 4:  Training Loss: 2.00567 , Validation Accuracy: 0.47\n",
      "Epoch  6, CIFAR-10 Batch 5:  Training Loss: 1.98563 , Validation Accuracy: 0.476\n",
      "Epoch  7, CIFAR-10 Batch 1:  Training Loss: 2.08127 , Validation Accuracy: 0.4948\n",
      "Epoch  7, CIFAR-10 Batch 2:  Training Loss: 1.9342 , Validation Accuracy: 0.4854\n",
      "Epoch  7, CIFAR-10 Batch 3:  Training Loss: 1.87695 , Validation Accuracy: 0.4814\n",
      "Epoch  7, CIFAR-10 Batch 4:  Training Loss: 1.92108 , Validation Accuracy: 0.496\n",
      "Epoch  7, CIFAR-10 Batch 5:  Training Loss: 1.99767 , Validation Accuracy: 0.452\n",
      "Epoch  8, CIFAR-10 Batch 1:  Training Loss: 1.98762 , Validation Accuracy: 0.4886\n",
      "Epoch  8, CIFAR-10 Batch 2:  Training Loss: 1.95612 , Validation Accuracy: 0.4994\n",
      "Epoch  8, CIFAR-10 Batch 3:  Training Loss: 1.83231 , Validation Accuracy: 0.5028\n",
      "Epoch  8, CIFAR-10 Batch 4:  Training Loss: 1.88313 , Validation Accuracy: 0.5152\n",
      "Epoch  8, CIFAR-10 Batch 5:  Training Loss: 1.91567 , Validation Accuracy: 0.5026\n",
      "Epoch  9, CIFAR-10 Batch 1:  Training Loss: 1.99846 , Validation Accuracy: 0.4842\n",
      "Epoch  9, CIFAR-10 Batch 2:  Training Loss: 1.92519 , Validation Accuracy: 0.4996\n",
      "Epoch  9, CIFAR-10 Batch 3:  Training Loss: 1.8708 , Validation Accuracy: 0.5128\n",
      "Epoch  9, CIFAR-10 Batch 4:  Training Loss: 1.93528 , Validation Accuracy: 0.5132\n",
      "Epoch  9, CIFAR-10 Batch 5:  Training Loss: 1.935 , Validation Accuracy: 0.5236\n",
      "Epoch 10, CIFAR-10 Batch 1:  Training Loss: 1.99081 , Validation Accuracy: 0.4968\n",
      "Epoch 10, CIFAR-10 Batch 2:  Training Loss: 1.95505 , Validation Accuracy: 0.5168\n",
      "Epoch 10, CIFAR-10 Batch 3:  Training Loss: 1.79097 , Validation Accuracy: 0.5192\n",
      "Epoch 10, CIFAR-10 Batch 4:  Training Loss: 1.91688 , Validation Accuracy: 0.5228\n",
      "Epoch 10, CIFAR-10 Batch 5:  Training Loss: 1.95663 , Validation Accuracy: 0.515\n",
      "Epoch 11, CIFAR-10 Batch 1:  Training Loss: 2.00654 , Validation Accuracy: 0.5058\n",
      "Epoch 11, CIFAR-10 Batch 2:  Training Loss: 1.94554 , Validation Accuracy: 0.4892\n",
      "Epoch 11, CIFAR-10 Batch 3:  Training Loss: 1.74961 , Validation Accuracy: 0.5396\n",
      "Epoch 11, CIFAR-10 Batch 4:  Training Loss: 1.86295 , Validation Accuracy: 0.5174\n",
      "Epoch 11, CIFAR-10 Batch 5:  Training Loss: 1.90494 , Validation Accuracy: 0.5188\n",
      "Epoch 12, CIFAR-10 Batch 1:  Training Loss: 1.93005 , Validation Accuracy: 0.5178\n",
      "Epoch 12, CIFAR-10 Batch 2:  Training Loss: 1.96317 , Validation Accuracy: 0.5018\n",
      "Epoch 12, CIFAR-10 Batch 3:  Training Loss: 1.77755 , Validation Accuracy: 0.5314\n",
      "Epoch 12, CIFAR-10 Batch 4:  Training Loss: 1.87561 , Validation Accuracy: 0.5246\n",
      "Epoch 12, CIFAR-10 Batch 5:  Training Loss: 1.89817 , Validation Accuracy: 0.5334\n",
      "Epoch 13, CIFAR-10 Batch 1:  Training Loss: 1.9745 , Validation Accuracy: 0.5192\n",
      "Epoch 13, CIFAR-10 Batch 2:  Training Loss: 1.93933 , Validation Accuracy: 0.5214\n",
      "Epoch 13, CIFAR-10 Batch 3:  Training Loss: 1.75904 , Validation Accuracy: 0.536\n",
      "Epoch 13, CIFAR-10 Batch 4:  Training Loss: 1.91069 , Validation Accuracy: 0.5254\n",
      "Epoch 13, CIFAR-10 Batch 5:  Training Loss: 1.86542 , Validation Accuracy: 0.547\n",
      "Epoch 14, CIFAR-10 Batch 1:  Training Loss: 1.92172 , Validation Accuracy: 0.5294\n",
      "Epoch 14, CIFAR-10 Batch 2:  Training Loss: 1.90928 , Validation Accuracy: 0.5352\n",
      "Epoch 14, CIFAR-10 Batch 3:  Training Loss: 1.72091 , Validation Accuracy: 0.5488\n",
      "Epoch 14, CIFAR-10 Batch 4:  Training Loss: 1.88737 , Validation Accuracy: 0.5506\n",
      "Epoch 14, CIFAR-10 Batch 5:  Training Loss: 1.894 , Validation Accuracy: 0.5424\n",
      "Epoch 15, CIFAR-10 Batch 1:  Training Loss: 1.86859 , Validation Accuracy: 0.5494\n",
      "Epoch 15, CIFAR-10 Batch 2:  Training Loss: 1.92853 , Validation Accuracy: 0.5422\n",
      "Epoch 15, CIFAR-10 Batch 3:  Training Loss: 1.71306 , Validation Accuracy: 0.5496\n",
      "Epoch 15, CIFAR-10 Batch 4:  Training Loss: 1.83456 , Validation Accuracy: 0.5496\n",
      "Epoch 15, CIFAR-10 Batch 5:  Training Loss: 1.8676 , Validation Accuracy: 0.543\n",
      "Epoch 16, CIFAR-10 Batch 1:  Training Loss: 1.94395 , Validation Accuracy: 0.549\n",
      "Epoch 16, CIFAR-10 Batch 2:  Training Loss: 1.85598 , Validation Accuracy: 0.5352\n",
      "Epoch 16, CIFAR-10 Batch 3:  Training Loss: 1.74589 , Validation Accuracy: 0.5514\n",
      "Epoch 16, CIFAR-10 Batch 4:  Training Loss: 1.77479 , Validation Accuracy: 0.5438\n",
      "Epoch 16, CIFAR-10 Batch 5:  Training Loss: 1.86507 , Validation Accuracy: 0.5346\n",
      "Epoch 17, CIFAR-10 Batch 1:  Training Loss: 1.86946 , Validation Accuracy: 0.5526\n",
      "Epoch 17, CIFAR-10 Batch 2:  Training Loss: 1.84408 , Validation Accuracy: 0.5514\n",
      "Epoch 17, CIFAR-10 Batch 3:  Training Loss: 1.71621 , Validation Accuracy: 0.5626\n",
      "Epoch 17, CIFAR-10 Batch 4:  Training Loss: 1.80025 , Validation Accuracy: 0.557\n",
      "Epoch 17, CIFAR-10 Batch 5:  Training Loss: 1.86109 , Validation Accuracy: 0.5564\n",
      "Epoch 18, CIFAR-10 Batch 1:  Training Loss: 1.94217 , Validation Accuracy: 0.5584\n",
      "Epoch 18, CIFAR-10 Batch 2:  Training Loss: 1.86542 , Validation Accuracy: 0.5584\n",
      "Epoch 18, CIFAR-10 Batch 3:  Training Loss: 1.75899 , Validation Accuracy: 0.5608\n",
      "Epoch 18, CIFAR-10 Batch 4:  Training Loss: 1.84184 , Validation Accuracy: 0.5612\n",
      "Epoch 18, CIFAR-10 Batch 5:  Training Loss: 1.85055 , Validation Accuracy: 0.5542\n",
      "Epoch 19, CIFAR-10 Batch 1:  Training Loss: 1.95935 , Validation Accuracy: 0.5214\n",
      "Epoch 19, CIFAR-10 Batch 2:  Training Loss: 1.8736 , Validation Accuracy: 0.5518\n",
      "Epoch 19, CIFAR-10 Batch 3:  Training Loss: 1.72512 , Validation Accuracy: 0.5646\n",
      "Epoch 19, CIFAR-10 Batch 4:  Training Loss: 1.80598 , Validation Accuracy: 0.5652\n",
      "Epoch 19, CIFAR-10 Batch 5:  Training Loss: 1.80901 , Validation Accuracy: 0.564\n",
      "Epoch 20, CIFAR-10 Batch 1:  Training Loss: 1.87662 , Validation Accuracy: 0.5428\n",
      "Epoch 20, CIFAR-10 Batch 2:  Training Loss: 1.8693 , Validation Accuracy: 0.5508\n",
      "Epoch 20, CIFAR-10 Batch 3:  Training Loss: 1.70872 , Validation Accuracy: 0.5678\n",
      "Epoch 20, CIFAR-10 Batch 4:  Training Loss: 1.79859 , Validation Accuracy: 0.5644\n",
      "Epoch 20, CIFAR-10 Batch 5:  Training Loss: 1.87293 , Validation Accuracy: 0.5594\n",
      "Epoch 21, CIFAR-10 Batch 1:  Training Loss: 1.85168 , Validation Accuracy: 0.5494\n",
      "Epoch 21, CIFAR-10 Batch 2:  Training Loss: 1.8276 , Validation Accuracy: 0.554\n",
      "Epoch 21, CIFAR-10 Batch 3:  Training Loss: 1.752 , Validation Accuracy: 0.5672\n",
      "Epoch 21, CIFAR-10 Batch 4:  Training Loss: 1.80522 , Validation Accuracy: 0.566\n",
      "Epoch 21, CIFAR-10 Batch 5:  Training Loss: 1.77838 , Validation Accuracy: 0.5714\n",
      "Epoch 22, CIFAR-10 Batch 1:  Training Loss: 1.87549 , Validation Accuracy: 0.5644\n",
      "Epoch 22, CIFAR-10 Batch 2:  Training Loss: 1.89117 , Validation Accuracy: 0.539\n",
      "Epoch 22, CIFAR-10 Batch 3:  Training Loss: 1.66901 , Validation Accuracy: 0.5518\n",
      "Epoch 22, CIFAR-10 Batch 4:  Training Loss: 1.85208 , Validation Accuracy: 0.5676\n",
      "Epoch 22, CIFAR-10 Batch 5:  Training Loss: 1.88331 , Validation Accuracy: 0.5496\n",
      "Epoch 23, CIFAR-10 Batch 1:  Training Loss: 1.84199 , Validation Accuracy: 0.5372\n",
      "Epoch 23, CIFAR-10 Batch 2:  Training Loss: 1.87883 , Validation Accuracy: 0.5616\n",
      "Epoch 23, CIFAR-10 Batch 3:  Training Loss: 1.69489 , Validation Accuracy: 0.5544\n",
      "Epoch 23, CIFAR-10 Batch 4:  Training Loss: 1.84009 , Validation Accuracy: 0.5608\n",
      "Epoch 23, CIFAR-10 Batch 5:  Training Loss: 1.78041 , Validation Accuracy: 0.5576\n",
      "Epoch 24, CIFAR-10 Batch 1:  Training Loss: 1.87728 , Validation Accuracy: 0.5582\n",
      "Epoch 24, CIFAR-10 Batch 2:  Training Loss: 1.90231 , Validation Accuracy: 0.553\n",
      "Epoch 24, CIFAR-10 Batch 3:  Training Loss: 1.702 , Validation Accuracy: 0.5612\n",
      "Epoch 24, CIFAR-10 Batch 4:  Training Loss: 1.82444 , Validation Accuracy: 0.5692\n",
      "Epoch 24, CIFAR-10 Batch 5:  Training Loss: 1.76126 , Validation Accuracy: 0.5826\n",
      "Epoch 25, CIFAR-10 Batch 1:  Training Loss: 1.86971 , Validation Accuracy: 0.5712\n",
      "Epoch 25, CIFAR-10 Batch 2:  Training Loss: 1.84424 , Validation Accuracy: 0.586\n",
      "Epoch 25, CIFAR-10 Batch 3:  Training Loss: 1.65117 , Validation Accuracy: 0.563\n",
      "Epoch 25, CIFAR-10 Batch 4:  Training Loss: 1.80783 , Validation Accuracy: 0.576\n",
      "Epoch 25, CIFAR-10 Batch 5:  Training Loss: 1.80199 , Validation Accuracy: 0.575\n",
      "Epoch 26, CIFAR-10 Batch 1:  Training Loss: 1.8415 , Validation Accuracy: 0.5664\n",
      "Epoch 26, CIFAR-10 Batch 2:  Training Loss: 1.82017 , Validation Accuracy: 0.5624\n",
      "Epoch 26, CIFAR-10 Batch 3:  Training Loss: 1.73815 , Validation Accuracy: 0.5628\n",
      "Epoch 26, CIFAR-10 Batch 4:  Training Loss: 1.78524 , Validation Accuracy: 0.5642\n",
      "Epoch 26, CIFAR-10 Batch 5:  Training Loss: 1.78042 , Validation Accuracy: 0.5644\n",
      "Epoch 27, CIFAR-10 Batch 1:  Training Loss: 1.81733 , Validation Accuracy: 0.559\n",
      "Epoch 27, CIFAR-10 Batch 2:  Training Loss: 1.82385 , Validation Accuracy: 0.5772\n",
      "Epoch 27, CIFAR-10 Batch 3:  Training Loss: 1.73014 , Validation Accuracy: 0.568\n",
      "Epoch 27, CIFAR-10 Batch 4:  Training Loss: 1.85996 , Validation Accuracy: 0.5804\n",
      "Epoch 27, CIFAR-10 Batch 5:  Training Loss: 1.79675 , Validation Accuracy: 0.5748\n",
      "Epoch 28, CIFAR-10 Batch 1:  Training Loss: 1.82244 , Validation Accuracy: 0.5698\n",
      "Epoch 28, CIFAR-10 Batch 2:  Training Loss: 1.83679 , Validation Accuracy: 0.5838\n",
      "Epoch 28, CIFAR-10 Batch 3:  Training Loss: 1.68752 , Validation Accuracy: 0.5732\n",
      "Epoch 28, CIFAR-10 Batch 4:  Training Loss: 1.7847 , Validation Accuracy: 0.5678\n",
      "Epoch 28, CIFAR-10 Batch 5:  Training Loss: 1.81779 , Validation Accuracy: 0.582\n",
      "Epoch 29, CIFAR-10 Batch 1:  Training Loss: 1.82208 , Validation Accuracy: 0.5534\n",
      "Epoch 29, CIFAR-10 Batch 2:  Training Loss: 1.83021 , Validation Accuracy: 0.58\n",
      "Epoch 29, CIFAR-10 Batch 3:  Training Loss: 1.70513 , Validation Accuracy: 0.583\n",
      "Epoch 29, CIFAR-10 Batch 4:  Training Loss: 1.80473 , Validation Accuracy: 0.5744\n",
      "Epoch 29, CIFAR-10 Batch 5:  Training Loss: 1.81027 , Validation Accuracy: 0.5712\n",
      "Epoch 30, CIFAR-10 Batch 1:  Training Loss: 1.79087 , Validation Accuracy: 0.5744\n",
      "Epoch 30, CIFAR-10 Batch 2:  Training Loss: 1.76972 , Validation Accuracy: 0.5822\n",
      "Epoch 30, CIFAR-10 Batch 3:  Training Loss: 1.68662 , Validation Accuracy: 0.5812\n",
      "Epoch 30, CIFAR-10 Batch 4:  Training Loss: 1.76416 , Validation Accuracy: 0.5746\n",
      "Epoch 30, CIFAR-10 Batch 5:  Training Loss: 1.77534 , Validation Accuracy: 0.564\n",
      "Epoch 31, CIFAR-10 Batch 1:  Training Loss: 1.78808 , Validation Accuracy: 0.5572\n",
      "Epoch 31, CIFAR-10 Batch 2:  Training Loss: 1.81086 , Validation Accuracy: 0.5664\n",
      "Epoch 31, CIFAR-10 Batch 3:  Training Loss: 1.64915 , Validation Accuracy: 0.5682\n",
      "Epoch 31, CIFAR-10 Batch 4:  Training Loss: 1.7965 , Validation Accuracy: 0.5748\n",
      "Epoch 31, CIFAR-10 Batch 5:  Training Loss: 1.7985 , Validation Accuracy: 0.5618\n",
      "Epoch 32, CIFAR-10 Batch 1:  Training Loss: 1.78142 , Validation Accuracy: 0.5898\n",
      "Epoch 32, CIFAR-10 Batch 2:  Training Loss: 1.7986 , Validation Accuracy: 0.5928\n",
      "Epoch 32, CIFAR-10 Batch 3:  Training Loss: 1.75109 , Validation Accuracy: 0.5738\n",
      "Epoch 32, CIFAR-10 Batch 4:  Training Loss: 1.75137 , Validation Accuracy: 0.5832\n",
      "Epoch 32, CIFAR-10 Batch 5:  Training Loss: 1.75898 , Validation Accuracy: 0.5802\n",
      "Epoch 33, CIFAR-10 Batch 1:  Training Loss: 1.75587 , Validation Accuracy: 0.5778\n",
      "Epoch 33, CIFAR-10 Batch 2:  Training Loss: 1.76459 , Validation Accuracy: 0.563\n",
      "Epoch 33, CIFAR-10 Batch 3:  Training Loss: 1.66794 , Validation Accuracy: 0.5826\n",
      "Epoch 33, CIFAR-10 Batch 4:  Training Loss: 1.77654 , Validation Accuracy: 0.586\n",
      "Epoch 33, CIFAR-10 Batch 5:  Training Loss: 1.73298 , Validation Accuracy: 0.584\n",
      "Epoch 34, CIFAR-10 Batch 1:  Training Loss: 1.7451 , Validation Accuracy: 0.5746\n",
      "Epoch 34, CIFAR-10 Batch 2:  Training Loss: 1.77351 , Validation Accuracy: 0.5834\n",
      "Epoch 34, CIFAR-10 Batch 3:  Training Loss: 1.70134 , Validation Accuracy: 0.5716\n",
      "Epoch 34, CIFAR-10 Batch 4:  Training Loss: 1.75464 , Validation Accuracy: 0.5936\n",
      "Epoch 34, CIFAR-10 Batch 5:  Training Loss: 1.71642 , Validation Accuracy: 0.582\n",
      "Epoch 35, CIFAR-10 Batch 1:  Training Loss: 1.79973 , Validation Accuracy: 0.5922\n",
      "Epoch 35, CIFAR-10 Batch 2:  Training Loss: 1.74699 , Validation Accuracy: 0.5828\n",
      "Epoch 35, CIFAR-10 Batch 3:  Training Loss: 1.69506 , Validation Accuracy: 0.5812\n",
      "Epoch 35, CIFAR-10 Batch 4:  Training Loss: 1.77289 , Validation Accuracy: 0.5776\n",
      "Epoch 35, CIFAR-10 Batch 5:  Training Loss: 1.68197 , Validation Accuracy: 0.5886\n",
      "Epoch 36, CIFAR-10 Batch 1:  Training Loss: 1.75965 , Validation Accuracy: 0.5818\n",
      "Epoch 36, CIFAR-10 Batch 2:  Training Loss: 1.75534 , Validation Accuracy: 0.5816\n",
      "Epoch 36, CIFAR-10 Batch 3:  Training Loss: 1.65147 , Validation Accuracy: 0.5928\n",
      "Epoch 36, CIFAR-10 Batch 4:  Training Loss: 1.88262 , Validation Accuracy: 0.5456\n",
      "Epoch 36, CIFAR-10 Batch 5:  Training Loss: 1.73418 , Validation Accuracy: 0.6004\n",
      "Epoch 37, CIFAR-10 Batch 1:  Training Loss: 1.77618 , Validation Accuracy: 0.5906\n",
      "Epoch 37, CIFAR-10 Batch 2:  Training Loss: 1.79466 , Validation Accuracy: 0.5876\n",
      "Epoch 37, CIFAR-10 Batch 3:  Training Loss: 1.68528 , Validation Accuracy: 0.5844\n",
      "Epoch 37, CIFAR-10 Batch 4:  Training Loss: 1.77414 , Validation Accuracy: 0.5826\n",
      "Epoch 37, CIFAR-10 Batch 5:  Training Loss: 1.74011 , Validation Accuracy: 0.5878\n",
      "Epoch 38, CIFAR-10 Batch 1:  Training Loss: 1.87408 , Validation Accuracy: 0.591\n",
      "Epoch 38, CIFAR-10 Batch 2:  Training Loss: 1.75928 , Validation Accuracy: 0.5832\n",
      "Epoch 38, CIFAR-10 Batch 3:  Training Loss: 1.63633 , Validation Accuracy: 0.5908\n",
      "Epoch 38, CIFAR-10 Batch 4:  Training Loss: 1.7362 , Validation Accuracy: 0.581\n",
      "Epoch 38, CIFAR-10 Batch 5:  Training Loss: 1.83546 , Validation Accuracy: 0.571\n",
      "Epoch 39, CIFAR-10 Batch 1:  Training Loss: 1.77739 , Validation Accuracy: 0.5884\n",
      "Epoch 39, CIFAR-10 Batch 2:  Training Loss: 1.78735 , Validation Accuracy: 0.5878\n",
      "Epoch 39, CIFAR-10 Batch 3:  Training Loss: 1.66724 , Validation Accuracy: 0.5826\n",
      "Epoch 39, CIFAR-10 Batch 4:  Training Loss: 1.75821 , Validation Accuracy: 0.5828\n",
      "Epoch 39, CIFAR-10 Batch 5:  Training Loss: 1.69156 , Validation Accuracy: 0.5926\n",
      "Epoch 40, CIFAR-10 Batch 1:  Training Loss: 1.7426 , Validation Accuracy: 0.5816\n",
      "Epoch 40, CIFAR-10 Batch 2:  Training Loss: 1.77638 , Validation Accuracy: 0.5778\n",
      "Epoch 40, CIFAR-10 Batch 3:  Training Loss: 1.67604 , Validation Accuracy: 0.5932\n",
      "Epoch 40, CIFAR-10 Batch 4:  Training Loss: 1.76578 , Validation Accuracy: 0.5682\n",
      "Epoch 40, CIFAR-10 Batch 5:  Training Loss: 1.67849 , Validation Accuracy: 0.6008\n"
     ]
    }
   ],
   "source": [
    "\"\"\"\n",
    "DON'T MODIFY ANYTHING IN THIS CELL\n",
    "\"\"\"\n",
    "save_model_path = './image_classification'\n",
    "\n",
    "print('Training...')\n",
    "with tf.Session() as sess:\n",
    "    # Initializing the variables\n",
    "    sess.run(tf.global_variables_initializer())\n",
    "    \n",
    "    # Training cycle\n",
    "    for epoch in range(epochs):\n",
    "        # Loop over all batches\n",
    "        n_batches = 5\n",
    "        for batch_i in range(1, n_batches + 1):\n",
    "            for batch_features, batch_labels in helper.load_preprocess_training_batch(batch_i, batch_size):\n",
    "                train_neural_network(sess, optimizer, keep_probability, batch_features, batch_labels)\n",
    "            print('Epoch {:>2}, CIFAR-10 Batch {}:  '.format(epoch + 1, batch_i), end='')\n",
    "            print_stats(sess, batch_features, batch_labels, cost, accuracy)\n",
    "            \n",
    "    # Save Model\n",
    "    saver = tf.train.Saver()\n",
    "    save_path = saver.save(sess, save_model_path)"
   ]
  },
  {
   "cell_type": "markdown",
   "metadata": {},
   "source": [
    "# Checkpoint\n",
    "The model has been saved to disk.\n",
    "## Test Model\n",
    "Test your model against the test dataset.  This will be your final accuracy. You should have an accuracy greater than 50%. If you don't, keep tweaking the model architecture and parameters."
   ]
  },
  {
   "cell_type": "code",
   "execution_count": 24,
   "metadata": {
    "collapsed": false
   },
   "outputs": [
    {
     "name": "stdout",
     "output_type": "stream",
     "text": [
      "INFO:tensorflow:Restoring parameters from ./image_classification\n",
      "Testing Accuracy: 0.6010680379746836\n",
      "\n"
     ]
    },
    {
     "data": {
      "image/png": "[encoded data removed]",
      "text/plain": [
       "<matplotlib.figure.Figure at 0x1161576a0>"
      ]
     },
     "metadata": {
      "image/png": {
       "height": 319,
       "width": 355
      }
     },
     "output_type": "display_data"
    }
   ],
   "source": [
    "\"\"\"\n",
    "DON'T MODIFY ANYTHING IN THIS CELL\n",
    "\"\"\"\n",
    "%matplotlib inline\n",
    "%config InlineBackend.figure_format = 'retina'\n",
    "\n",
    "import tensorflow as tf\n",
    "import pickle\n",
    "import helper\n",
    "import random\n",
    "\n",
    "# Set batch size if not already set\n",
    "try:\n",
    "    if batch_size:\n",
    "        pass\n",
    "except NameError:\n",
    "    batch_size = 64\n",
    "\n",
    "save_model_path = './image_classification'\n",
    "n_samples = 4\n",
    "top_n_predictions = 3\n",
    "\n",
    "def test_model():\n",
    "    \"\"\"\n",
    "    Test the saved model against the test dataset\n",
    "    \"\"\"\n",
    "\n",
    "    test_features, test_labels = pickle.load(open('preprocess_training.p', mode='rb'))\n",
    "    loaded_graph = tf.Graph()\n",
    "\n",
    "    with tf.Session(graph=loaded_graph) as sess:\n",
    "        # Load model\n",
    "        loader = tf.train.import_meta_graph(save_model_path + '.meta')\n",
    "        loader.restore(sess, save_model_path)\n",
    "\n",
    "        # Get Tensors from loaded model\n",
    "        loaded_x = loaded_graph.get_tensor_by_name('x:0')\n",
    "        loaded_y = loaded_graph.get_tensor_by_name('y:0')\n",
    "        loaded_keep_prob = loaded_graph.get_tensor_by_name('keep_prob:0')\n",
    "        loaded_logits = loaded_graph.get_tensor_by_name('logits:0')\n",
    "        loaded_acc = loaded_graph.get_tensor_by_name('accuracy:0')\n",
    "        \n",
    "        # Get accuracy in batches for memory limitations\n",
    "        test_batch_acc_total = 0\n",
    "        test_batch_count = 0\n",
    "        \n",
    "        for train_feature_batch, train_label_batch in helper.batch_features_labels(test_features, test_labels, batch_size):\n",
    "            test_batch_acc_total += sess.run(\n",
    "                loaded_acc,\n",
    "                feed_dict={loaded_x: train_feature_batch, loaded_y: train_label_batch, loaded_keep_prob: 1.0})\n",
    "            test_batch_count += 1\n",
    "\n",
    "        print('Testing Accuracy: {}\\n'.format(test_batch_acc_total/test_batch_count))\n",
    "\n",
    "        # Print Random Samples\n",
    "        random_test_features, random_test_labels = tuple(zip(*random.sample(list(zip(test_features, test_labels)), n_samples)))\n",
    "        random_test_predictions = sess.run(\n",
    "            tf.nn.top_k(tf.nn.softmax(loaded_logits), top_n_predictions),\n",
    "            feed_dict={loaded_x: random_test_features, loaded_y: random_test_labels, loaded_keep_prob: 1.0})\n",
    "        helper.display_image_predictions(random_test_features, random_test_labels, random_test_predictions)\n",
    "\n",
    "\n",
    "test_model()"
   ]
  },
  {
   "cell_type": "markdown",
   "metadata": {},
   "source": [
    "## Why 50-70% Accuracy?\n",
    "You might be wondering why you can't get an accuracy any higher. First things first, 50% isn't bad for a simple CNN.  Pure guessing would get you 10% accuracy. However, you might notice people are getting scores [well above 70%](http://rodrigob.github.io/are_we_there_yet/build/classification_datasets_results.html#43494641522d3130).  That's because we haven't taught you all there is to know about neural networks. We still need to cover a few more techniques.\n",
    "## Submitting This Project\n",
    "When submitting this project, make sure to run all the cells before saving the notebook.  Save the notebook file as \"dlnd_image_classification.ipynb\" and save it as a HTML file under \"File\" -> \"Download as\".  Include the \"helper.py\" and \"problem_unittests.py\" files in your submission."
   ]
  }
 ],
 "metadata": {
  "kernelspec": {
   "display_name": "Python 3",
   "language": "python",
   "name": "python3"
  },
  "language_info": {
   "codemirror_mode": {
    "name": "ipython",
    "version": 3
   },
   "file_extension": ".py",
   "mimetype": "text/x-python",
   "name": "python",
   "nbconvert_exporter": "python",
   "pygments_lexer": "ipython3",
   "version": "3.6.0"
  }
 },
 "nbformat": 4,
 "nbformat_minor": 0
}
